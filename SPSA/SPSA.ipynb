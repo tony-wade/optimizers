{
  "nbformat": 4,
  "nbformat_minor": 0,
  "metadata": {
    "colab": {
      "provenance": [],
      "authorship_tag": "ABX9TyOvgzCMYm9xFne+UN6F3UKp",
      "include_colab_link": true
    },
    "kernelspec": {
      "name": "python3",
      "display_name": "Python 3"
    },
    "language_info": {
      "name": "python"
    }
  },
  "cells": [
    {
      "cell_type": "markdown",
      "metadata": {
        "id": "view-in-github",
        "colab_type": "text"
      },
      "source": [
        "<a href=\"https://colab.research.google.com/github/tony-wade/optimizers/blob/main/SPSA/SPSA.ipynb\" target=\"_parent\"><img src=\"https://colab.research.google.com/assets/colab-badge.svg\" alt=\"Open In Colab\"/></a>"
      ]
    },
    {
      "cell_type": "markdown",
      "source": [
        "## Author Information\n",
        "This code is provided by **Wade Wu**.\n",
        "\n",
        "For license information, please visit my [GitHub repository](https://github.com/tony-wade/optimizers). Contributions and feedback are always welcome!\n"
      ],
      "metadata": {
        "id": "j74IMsRHyQ35"
      }
    },
    {
      "cell_type": "markdown",
      "source": [
        "## Code"
      ],
      "metadata": {
        "id": "mv4r19zRVWxs"
      }
    },
    {
      "cell_type": "markdown",
      "source": [
        "\n",
        "\n",
        "```\n",
        "Note: This optimizer requires a closure function.\n",
        "\n",
        "    # Loop\n",
        "    def closure():\n",
        "          outputs = model(features)\n",
        "          return criterion(outputs, targets)\n",
        "    optimizer.step(closure)\n",
        "```\n",
        "\n"
      ],
      "metadata": {
        "id": "_4f_u2HUQIiG"
      }
    },
    {
      "cell_type": "code",
      "source": [
        "class SPSA(torch.optim.Optimizer):\n",
        "    \"\"\"\n",
        "    Stochastic Perturbation Stochastic Approximation (SPSA) optimizer with Nesterov Accelerated Gradient (NAG).\n",
        "\n",
        "    Args:\n",
        "        params (torch.nn.Module.parameters)\n",
        "        a (float): Initial learning‐rate coefficient (default: 0.63).\n",
        "        c (float): Initial perturbation magnitude coefficient (default: 0.1).\n",
        "        A (float): Stability constant for learning‐rate schedule (default: 1).\n",
        "        alpha (float): Exponent for learning‐rate decay (default: 0.603).\n",
        "        gamma (float): Exponent for perturbation decay (default: 0.101).\n",
        "        momentum (float): Momentum factor for Nesterov acceleration (default: 0.9).\n",
        "        nesterov (bool): If True, apply Nesterov Accelerated Gradient (default: True).\n",
        "    \"\"\"\n",
        "    def __init__(self, params, a=0.63, c=0.1, A=1, alpha=0.603, gamma=0.101, momentum=0.9, nesterov=True):\n",
        "        defaults = dict(a=a, c=c, A=A, alpha=alpha, gamma=gamma, momentum=momentum)\n",
        "        super().__init__(params, defaults)   # enable .param_groups\n",
        "        self.t = 0    #  iter_num\n",
        "        self.nesterov = nesterov\n",
        "        self.deltas = [\n",
        "                 torch.zeros_like(nn.utils.parameters_to_vector(group['params']))\n",
        "                 for group in self.param_groups\n",
        "        ]\n",
        "        if nesterov:\n",
        "            self.prev_grad_vec = [\n",
        "                torch.zeros_like(nn.utils.parameters_to_vector(group['params']))\n",
        "                for group in self.param_groups\n",
        "            ]\n",
        "            self.prev_nes_vec = [\n",
        "                torch.zeros_like(nn.utils.parameters_to_vector(group['params']))\n",
        "                for group in self.param_groups\n",
        "            ]\n",
        "\n",
        "    @torch.no_grad()\n",
        "    def _cal_nesterov(self, idx, grad, momentum):\n",
        "        prev_grad = self.prev_grad_vec[idx]   # get relative param_group's data\n",
        "        prev_nes_grad = self.prev_nes_vec[idx]\n",
        "\n",
        "        nes_grad_vec = grad + (prev_nes_grad + grad - prev_grad) * momentum\n",
        "\n",
        "        self.prev_nes_vec[idx] = nes_grad_vec\n",
        "        self.prev_grad_vec[idx] = grad\n",
        "\n",
        "        return nes_grad_vec\n",
        "\n",
        "    @torch.no_grad()\n",
        "    def step(self, closure):\n",
        "        self.t += 1\n",
        "        for idx, group in enumerate(self.param_groups):\n",
        "            # Adaptive variebles\n",
        "            a_t = group['a'] / (self.t + group['A']) ** group['alpha']\n",
        "            c_t = (group['c'] / self.t ** group['gamma']) + 1e-4   # 避免極小值\n",
        "\n",
        "            param_vec = nn.utils.parameters_to_vector(group['params'])\n",
        "            deltas = self.deltas[idx].random_(0, 2).mul_(2).add_(-1)  # {+1,-1}\n",
        "\n",
        "            # SPSA\n",
        "            nn.utils.vector_to_parameters(param_vec + deltas * c_t, group['params'])\n",
        "            loss_plus = closure()\n",
        "\n",
        "            nn.utils.vector_to_parameters(param_vec - deltas * c_t, group['params'])\n",
        "            loss_minus = closure()\n",
        "\n",
        "            estimated_grad_vec = (loss_plus - loss_minus) / (2 * deltas * c_t)\n",
        "\n",
        "            if self.nesterov:\n",
        "                nesterov_grad = self._cal_nesterov(idx, estimated_grad_vec, group['momentum'])\n",
        "                nn.utils.vector_to_parameters(param_vec - a_t * nesterov_grad, group['params'])\n",
        "            else:\n",
        "                nn.utils.vector_to_parameters(param_vec - a_t * estimated_grad_vec, group['params'])"
      ],
      "metadata": {
        "id": "k65OhnnkYdDC"
      },
      "execution_count": null,
      "outputs": []
    },
    {
      "cell_type": "markdown",
      "source": [
        "## Test"
      ],
      "metadata": {
        "id": "eUyaqcITVcVk"
      }
    },
    {
      "cell_type": "code",
      "source": [
        "if __name__ == '__main__':\n",
        "    input_size, hidden_size, output_size = 10, 10, 10\n",
        "    batch_size = 20\n",
        "    model = SimpleNN(input_size, hidden_size, output_size)\n",
        "    initialize_parameters(model)\n",
        "    data_loader = initialize_training_data(input_size, output_size, batch_size)\n",
        "\n",
        "    criterion = nn.SmoothL1Loss()\n",
        "    optimizer = SPSA(model.parameters(), a=0.1)\n",
        "\n",
        "    loss_list = []\n",
        "    # Training Loop\n",
        "    for epoch in range(1000):\n",
        "        loss = 0\n",
        "        for batch_x, batch_y in data_loader:\n",
        "            def closure():\n",
        "                batch_output = model(batch_x)\n",
        "                return criterion(batch_output, batch_y)\n",
        "\n",
        "            optimizer.step(closure)\n",
        "            loss += closure()\n",
        "\n",
        "        loss_list.append(loss.item()/len(data_loader))  # avg batch loss\n",
        "\n",
        "        if (epoch+1) % 100 == 0:\n",
        "            print(f\"Epoch {epoch + 1}, Loss: {loss.item()/len(data_loader) :.4f}\")\n",
        "\n",
        "    plt.plot(loss_list)\n",
        "    plt.title(\"Loss per Epoch\")\n",
        "    plt.xlabel(\"Epoch\")\n",
        "    plt.ylabel(\"Loss\")\n",
        "    plt.show()"
      ],
      "metadata": {
        "id": "EoizaFBnYVcd",
        "colab": {
          "base_uri": "https://localhost:8080/",
          "height": 646
        },
        "outputId": "54e4a4eb-6e6e-485c-f65e-41d003860e2a"
      },
      "execution_count": null,
      "outputs": [
        {
          "output_type": "stream",
          "name": "stdout",
          "text": [
            "Epoch 100, Loss: 0.6594\n",
            "Epoch 200, Loss: 0.5409\n",
            "Epoch 300, Loss: 0.4674\n",
            "Epoch 400, Loss: 0.4111\n",
            "Epoch 500, Loss: 0.3727\n",
            "Epoch 600, Loss: 0.3409\n",
            "Epoch 700, Loss: 0.3109\n",
            "Epoch 800, Loss: 0.2973\n",
            "Epoch 900, Loss: 0.2753\n",
            "Epoch 1000, Loss: 0.2620\n"
          ]
        },
        {
          "output_type": "display_data",
          "data": {
            "text/plain": [
              "<Figure size 640x480 with 1 Axes>"
            ],
            "image/png": "[encoded data removed]"
          },
          "metadata": {}
        }
      ]
    }
  ]
}